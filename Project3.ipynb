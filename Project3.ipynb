{
 "cells": [
  {
   "cell_type": "markdown",
   "metadata": {
    "deletable": true,
    "editable": true
   },
   "source": [
    "# Knapsack Problem with Integer Weights"
   ]
  },
  {
   "cell_type": "code",
   "execution_count": 4,
   "metadata": {
    "collapsed": true,
    "deletable": true,
    "editable": true
   },
   "outputs": [],
   "source": [
    "import random\n",
    "import math\n",
    "import time\n",
    "import matplotlib.pyplot as plt"
   ]
  },
  {
   "cell_type": "markdown",
   "metadata": {
    "deletable": true,
    "editable": true
   },
   "source": [
    "Dynamic Programming for Knapsack Problem"
   ]
  },
  {
   "cell_type": "code",
   "execution_count": 5,
   "metadata": {
    "collapsed": true,
    "deletable": true,
    "editable": true
   },
   "outputs": [],
   "source": [
    "def dpKnapsackAlgorithm(weights,values,w) :\n",
    "    startTime = time.time()\n",
    "    opt = [[0 for i in range(w+1)] for j in range(len(values)+1)]\n",
    "    for i in range(1,len(values)+1) :\n",
    "        for j in range(w+1) :\n",
    "            if weights[i-1] > j :\n",
    "                opt[i][j] = opt[i-1][j]\n",
    "            else :\n",
    "                if opt[i-1][j] > opt[i-1][j-weights[i-1]]+values[i-1] :\n",
    "                    opt[i][j] = opt[i-1][j]\n",
    "                else :\n",
    "                    opt[i][j] = opt[i-1][j-weights[i-1]]+values[i-1]\n",
    "\n",
    "    return time.time() - startTime "
   ]
  },
  {
   "cell_type": "markdown",
   "metadata": {
    "deletable": true,
    "editable": true
   },
   "source": [
    "Bruteforce algorithm for Knapsack Problem"
   ]
  },
  {
   "cell_type": "code",
   "execution_count": 6,
   "metadata": {
    "collapsed": true,
    "deletable": true,
    "editable": true
   },
   "outputs": [],
   "source": [
    "def bfKnapsackAlgorithm(weights,values,w) :\n",
    "    startTime = time.time()\n",
    "    binarySubsets = [False for i in range(len(values))]\n",
    "    bfKnapsackAlgorithmUtill(weights,values,w,binarySubsets,0)\n",
    "    return time.time() - startTime\n",
    "\n",
    "def bfKnapsackAlgorithmUtill(weights,values,w,binarySubsets,i,max = [0]) :\n",
    "    if i == len(values) :\n",
    "        weight = 0\n",
    "        value = 0\n",
    "        for j in range(i) :\n",
    "            if binarySubsets[j] :\n",
    "                weight += weights[j]\n",
    "                value += values[j]\n",
    "        if weight <= w :\n",
    "            if max[0] < value :\n",
    "                max[0] = value\n",
    "        return\n",
    "\n",
    "    binarySubsets[i] = True\n",
    "    bfKnapsackAlgorithmUtill(weights,values,w,binarySubsets,i+1)\n",
    "\n",
    "    binarySubsets[i] = False\n",
    "    bfKnapsackAlgorithmUtill(weights,values,w,binarySubsets,i+1)\n",
    "    return max[0]"
   ]
  },
  {
   "cell_type": "markdown",
   "metadata": {
    "deletable": true,
    "editable": true
   },
   "source": [
    "Prdoucing arrays with random Integer number"
   ]
  },
  {
   "cell_type": "code",
   "execution_count": 7,
   "metadata": {
    "collapsed": true,
    "deletable": true,
    "editable": true
   },
   "outputs": [],
   "source": [
    "def randomIntArray(max,len) :\n",
    "    return [random.randint(0,max) for i in range(len)]"
   ]
  },
  {
   "cell_type": "markdown",
   "metadata": {
    "deletable": true,
    "editable": true
   },
   "source": [
    "Comparison in base of increasing number of elements"
   ]
  },
  {
   "cell_type": "code",
   "execution_count": 8,
   "metadata": {
    "collapsed": false,
    "deletable": true,
    "editable": true
   },
   "outputs": [
    {
     "data": {
      "image/png": "[encoded data removed]",
      "text/plain": [
       "<matplotlib.figure.Figure at 0x7f128a041f28>"
      ]
     },
     "metadata": {},
     "output_type": "display_data"
    }
   ],
   "source": [
    "bruteForceTime = [0]\n",
    "dpTime = [0]\n",
    "for i in range(1,20) :\n",
    "    weights = randomIntArray(i*2,i)\n",
    "    values = randomIntArray(i*2,i)\n",
    "    w = 10\n",
    "    bruteForceTime.append(bfKnapsackAlgorithm(weights,values,w))\n",
    "    dpTime.append(dpKnapsackAlgorithm(weights,values,w))\n",
    "plt.plot(list(range(20)),dpTime,label=\"DP\")\n",
    "plt.plot(list(range(20)),bruteForceTime,color = \"r\",label=\"BF\")\n",
    "plt.xlabel('Number of member')\n",
    "plt.ylabel('Time')\n",
    "plt.title('Comparison')\n",
    "plt.legend()\n",
    "plt.show()"
   ]
  },
  {
   "cell_type": "markdown",
   "metadata": {
    "deletable": true,
    "editable": true
   },
   "source": [
    "# Knapsack Problem with Real Weights"
   ]
  },
  {
   "cell_type": "markdown",
   "metadata": {
    "deletable": true,
    "editable": true
   },
   "source": [
    "A funtion to map real weights to Integer Weights and then calling dynamic Programming algorithm"
   ]
  },
  {
   "cell_type": "code",
   "execution_count": 36,
   "metadata": {
    "collapsed": true,
    "deletable": true,
    "editable": true
   },
   "outputs": [],
   "source": [
    "def nIDpKnapsackAlgorithm(weights,values,w) :\n",
    "    startTime = time.time()\n",
    "    maxFloatingPoint = 0\n",
    "    #finding the weight with most floating point\n",
    "    for weight in weights :\n",
    "        floatingPointNum = 0\n",
    "        weight = str(weight)\n",
    "        for index in range(len(weight)) :\n",
    "            if weight[index] == \".\" :\n",
    "                floatingPointNum = len(weight) - index -1\n",
    "        if maxFloatingPoint < floatingPointNum :\n",
    "            maxFloatingPoint = floatingPointNum\n",
    "\n",
    "    weights = [int(i*math.pow(10,maxFloatingPoint-13)) for i in weights]\n",
    "    w = int(w * math.pow(10,maxFloatingPoint-13))\n",
    "#     maxNagativeNumber = 0\n",
    "#     for weight in weights :\n",
    "#         if weight < 0 :\n",
    "#             maxNagativeNumber = max(math.fabs(weight),maxNagativeNumber)\n",
    "\n",
    "#     weights = [int(i + maxNagativeNumber) for i in weights]\n",
    "#     w = int(w + maxNagativeNumber) \n",
    "    dpKnapsackAlgorithm(weights,values,w)\n",
    "    return time.time() - startTime"
   ]
  },
  {
   "cell_type": "markdown",
   "metadata": {
    "collapsed": true,
    "deletable": true,
    "editable": true
   },
   "source": [
    "Producing array with random real numbers more than 0 "
   ]
  },
  {
   "cell_type": "code",
   "execution_count": 34,
   "metadata": {
    "collapsed": true,
    "deletable": true,
    "editable": true
   },
   "outputs": [],
   "source": [
    "def randomArray(max,len) :\n",
    "    return [random.uniform(0,max) for i in range(len)]"
   ]
  },
  {
   "cell_type": "markdown",
   "metadata": {},
   "source": [
    "Comparison in base of increasing number of elements"
   ]
  },
  {
   "cell_type": "code",
   "execution_count": 37,
   "metadata": {
    "collapsed": false,
    "deletable": true,
    "editable": true
   },
   "outputs": [
    {
     "data": {
      "image/png": "[encoded data removed]",
      "text/plain": [
       "<matplotlib.figure.Figure at 0x7f1289a1b7f0>"
      ]
     },
     "metadata": {},
     "output_type": "display_data"
    }
   ],
   "source": [
    "bruteForceTime = [0]\n",
    "noneIntegerDpTime = [0]\n",
    "for i in range(1,20) :\n",
    "    weights = randomArray(i*2,i)\n",
    "    values = randomArray(i*2,i)\n",
    "    w = 10\n",
    "    bruteForceTime.append(bfKnapsackAlgorithm(weights,values,w))\n",
    "    noneIntegerDpTime.append(nIDpKnapsackAlgorithm(weights,values,w))\n",
    "plt.plot(list(range(20)),noneIntegerDpTime,label=\"DP\")\n",
    "plt.plot(list(range(20)),bruteForceTime,color = \"r\",label=\"BF\")\n",
    "plt.xlabel('Number of member')\n",
    "plt.ylabel('Time')\n",
    "plt.title('Comparison')\n",
    "plt.legend()\n",
    "plt.show()"
   ]
  },
  {
   "cell_type": "code",
   "execution_count": null,
   "metadata": {
    "collapsed": true,
    "deletable": true,
    "editable": true
   },
   "outputs": [],
   "source": []
  }
 ],
 "metadata": {
  "kernelspec": {
   "display_name": "Python 3",
   "language": "python",
   "name": "python3"
  },
  "language_info": {
   "codemirror_mode": {
    "name": "ipython",
    "version": 3
   },
   "file_extension": ".py",
   "mimetype": "text/x-python",
   "name": "python",
   "nbconvert_exporter": "python",
   "pygments_lexer": "ipython3",
   "version": "3.5.3"
  }
 },
 "nbformat": 4,
 "nbformat_minor": 2
}
