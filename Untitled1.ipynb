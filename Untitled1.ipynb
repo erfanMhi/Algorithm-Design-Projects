{
 "cells": [
  {
   "cell_type": "markdown",
   "metadata": {
    "deletable": true,
    "editable": true
   },
   "source": [
    "# Finding Topological Order in a Graph"
   ]
  },
  {
   "cell_type": "markdown",
   "metadata": {
    "deletable": true,
    "editable": true
   },
   "source": [
    "implementaion of Node Class :"
   ]
  },
  {
   "cell_type": "code",
   "execution_count": 18,
   "metadata": {
    "collapsed": true,
    "deletable": true,
    "editable": true
   },
   "outputs": [],
   "source": [
    "class Node :\n",
    "\n",
    "    def __init__(self ,id):\n",
    "        self.id = id\n",
    "        self.incomingNodes = []\n",
    "        self.outgoingNodes = []\n",
    "        self.incomingCounter = 0\n",
    "        self.visited = False\n",
    "\n",
    "    def addIncomingNode(self,node):\n",
    "        self.incomingCounter += 1\n",
    "        self.incomingNodes.append(node)\n",
    "\n",
    "    def removeIncomingNode(self,node):\n",
    "        if node in self.incomingNodes :\n",
    "            self.incomingCounter -= 1\n",
    "            self.incomingNodes.remove(node)\n",
    "            return True\n",
    "        else :\n",
    "            return False\n",
    "\n",
    "    def addOutgoingNode(self,node):\n",
    "        self.outgoingNodes.append(node)"
   ]
  },
  {
   "cell_type": "markdown",
   "metadata": {
    "deletable": true,
    "editable": true
   },
   "source": [
    "implementation of Graph Class"
   ]
  },
  {
   "cell_type": "code",
   "execution_count": 19,
   "metadata": {
    "collapsed": true,
    "deletable": true,
    "editable": true
   },
   "outputs": [],
   "source": [
    "class Graph :\n",
    "    def __init__(self ,vertexNum):\n",
    "\n",
    "        self.vertexNum = vertexNum\n",
    "        self.nodes = list(range(vertexNum))\n",
    "        for node in range(vertexNum) :\n",
    "            self.addNode(Node(node))\n",
    "\n",
    "    def addNode(self,node):\n",
    "        self.nodes[node.id] = node\n",
    "\n",
    "\n",
    "    def addEdge(self,outNode,inNode):\n",
    "        \"creating an edge from outNode to inNode\"\n",
    "        self.nodes[outNode].addOutgoingNode(self.nodes[inNode])\n",
    "        self.nodes[inNode].addIncomingNode(self.nodes[outNode])\n"
   ]
  },
  {
   "cell_type": "markdown",
   "metadata": {
    "deletable": true,
    "editable": true
   },
   "source": [
    "Initializing the sample Graph :"
   ]
  },
  {
   "cell_type": "code",
   "execution_count": 20,
   "metadata": {
    "collapsed": true,
    "deletable": true,
    "editable": true
   },
   "outputs": [],
   "source": [
    "def graphInitializer() :\n",
    "    \"a method for creating the graph and finding nodes with zero incoming in it\"\n",
    "    g = Graph(6)\n",
    "    g.addEdge(5, 2);\n",
    "    g.addEdge(5, 0);\n",
    "    g.addEdge(4, 0);\n",
    "    g.addEdge(4, 1);\n",
    "    g.addEdge(2, 3);\n",
    "    g.addEdge(3, 1);\n",
    "\n",
    "    return g"
   ]
  },
  {
   "cell_type": "markdown",
   "metadata": {
    "deletable": true,
    "editable": true
   },
   "source": [
    "Algorithm of finding diffrent topologicalOrders in a graph :"
   ]
  },
  {
   "cell_type": "code",
   "execution_count": 21,
   "metadata": {
    "collapsed": true,
    "deletable": true,
    "editable": true
   },
   "outputs": [],
   "source": [
    "def topologicalOrdersFinder(graph,toList=[]) :\n",
    "\n",
    "    if len(toList) == graph.vertexNum  :\n",
    "        print([i.id for i in toList])\n",
    "        return\n",
    "\n",
    "    for node in graph.nodes :\n",
    "\n",
    "        if node.incomingCounter == 0 and not node.visited :\n",
    "            node.visited = True\n",
    "            for adjNode in node.outgoingNodes :\n",
    "                adjNode.removeIncomingNode(node)\n",
    "\n",
    "            toList.append(node)\n",
    "            topologicalOrdersFinder(graph,toList)\n",
    "\n",
    "            for adjNode in node.outgoingNodes :\n",
    "                adjNode.addIncomingNode(node)\n",
    "            toList.remove(node)\n",
    "            node.visited = False"
   ]
  },
  {
   "cell_type": "markdown",
   "metadata": {
    "deletable": true,
    "editable": true
   },
   "source": [
    "running the algorithm :"
   ]
  },
  {
   "cell_type": "code",
   "execution_count": 22,
   "metadata": {
    "collapsed": false,
    "deletable": true,
    "editable": true
   },
   "outputs": [
    {
     "name": "stdout",
     "output_type": "stream",
     "text": [
      "[4, 5, 0, 2, 3, 1]\n",
      "[4, 5, 2, 0, 3, 1]\n",
      "[4, 5, 2, 3, 0, 1]\n",
      "[4, 5, 2, 3, 1, 0]\n",
      "[5, 2, 3, 4, 0, 1]\n",
      "[5, 2, 3, 4, 1, 0]\n",
      "[5, 2, 4, 0, 3, 1]\n",
      "[5, 2, 4, 3, 0, 1]\n",
      "[5, 2, 4, 3, 1, 0]\n",
      "[5, 4, 0, 2, 3, 1]\n",
      "[5, 4, 2, 0, 3, 1]\n",
      "[5, 4, 2, 3, 0, 1]\n",
      "[5, 4, 2, 3, 1, 0]\n"
     ]
    }
   ],
   "source": [
    "topologicalOrdersFinder(graphInitializer())"
   ]
  },
  {
   "cell_type": "markdown",
   "metadata": {
    "collapsed": true,
    "deletable": true,
    "editable": true
   },
   "source": [
    "# Priority Queue"
   ]
  },
  {
   "cell_type": "markdown",
   "metadata": {
    "deletable": true,
    "editable": true
   },
   "source": [
    "<div style=\"direction:rtl\">   صف اولویت ساختمان داده ای مانند صف و پشته است که هر عضو آن دارای یک اولویت است و قابلیت انجام عملیات های زیر را دارد: </div>"
   ]
  },
  {
   "cell_type": "markdown",
   "metadata": {
    "deletable": true,
    "editable": true
   },
   "source": [
    "<ul style=\"direction:rtl\">\n",
    "    <li>اضافه کردن عضوی با اولویت دلخواه (پیچیدگی زمانی (O(lgn) </li>\n",
    "    <li> حذف کردن عضوی با کمترین/بیشترین اولویت‌ (پیچیدگی زمانی (O(lgn) </li>\n",
    "    <li>حذف کردن عضو دلخواه (پیچیدگی زمانی (O(lgn)</li>\n",
    "    <li>بازگرداندا عضوی با کمترین/بیشترین اولویت (پیچیدگی زمانی (O(1)</li>\n",
    "</ul>"
   ]
  },
  {
   "cell_type": "markdown",
   "metadata": {
    "deletable": true,
    "editable": true
   },
   "source": [
    "## Priority Queue Features"
   ]
  },
  {
   "cell_type": "markdown",
   "metadata": {
    "deletable": true,
    "editable": true
   },
   "source": [
    "<div style=\"direction:rtl\"> صف های اولویت معمولا با درخت heap پیاده سازی می شوند که دارای ویژگی های زیر است : </div>"
   ]
  },
  {
   "cell_type": "markdown",
   "metadata": {
    "deletable": true,
    "editable": true
   },
   "source": [
    "<ul style=\"direction:rtl\">\n",
    "    <li>درخت دودویی کامل است. </li>\n",
    "    <li> برگ های سطح آخر آن از سمت چپ چیده شده است. </li>\n",
    "    <li>کلید هر عضو آن از مقدار کلیدهای فرزندانش کوچکتر است(صف اولویت کمینه).</li>\n",
    "    <li>ریشه کوچکترین عضو در درخت min-heap است.</li>\n",
    "    <li>در صورت دارا بودن n عضو ارتفاعش برابر با (o(lgn است.</li>\n",
    "    <li>اعمال درج و حذف کوچکترین عضو از مرتبه (lg(n است.</li>\n",
    "</ul>"
   ]
  },
  {
   "cell_type": "markdown",
   "metadata": {
    "deletable": true,
    "editable": true
   },
   "source": [
    "<img src=\"photoes/PriorityQueueImplementation.png\"></img>"
   ]
  },
  {
   "cell_type": "markdown",
   "metadata": {
    "deletable": true,
    "editable": true
   },
   "source": [
    "## Implementation of Priority Queue with Array"
   ]
  },
  {
   "cell_type": "markdown",
   "metadata": {
    "deletable": true,
    "editable": true
   },
   "source": [
    "<div style=\"direction:rtl\"> پیاده سازی صف اولویت با استفاده از درخت heap که به کمک ارایه :</div>"
   ]
  },
  {
   "cell_type": "markdown",
   "metadata": {
    "deletable": true,
    "editable": true
   },
   "source": [
    "<ul style=\"direction:rtl\">\n",
    "    <li>ریشه در [heapList[1 </li>\n",
    "    <li> فرزند چپ عضو i ام در [heapList[2i </li>\n",
    "    <li>فرزند راست عضو i ام در [heapList[2i +1</li>\n",
    "    <li>پدر عضو i ام در [heapList[i//2</li>\n",
    "</ul>"
   ]
  },
  {
   "cell_type": "code",
   "execution_count": 12,
   "metadata": {
    "collapsed": true,
    "deletable": true,
    "editable": true
   },
   "outputs": [],
   "source": [
    "class MinHeap:\n",
    "    def __init__(self):\n",
    "        self.heapList = [0]\n",
    "        self.currentSize = 0\n",
    "\n",
    "    def getMin(self):\n",
    "        if self.currentSize != 0  :\n",
    "            return self.heapList[1]\n",
    "\n",
    "    def parent(self, i):\n",
    "        return  i // 2\n",
    "\n",
    "    def leftChild(self, i):\n",
    "        return  i * 2\n",
    "\n",
    "    def rightChild(self, i):\n",
    "        return  i * 2 + 1\n",
    "\n",
    "    def size(self):\n",
    "        return self.currentSize\n",
    "\n",
    "    def upHeapify(self, i):\n",
    "        '''switching childs with their parent if parent was smaller than its child\n",
    "        starting from i'''\n",
    "        while i // 2 > 0:\n",
    "            if self.heapList[i] < self.heapList[self.parent(i)]:\n",
    "                tmp = self.heapList[self.parent(i)]\n",
    "                self.heapList[i // 2] = self.heapList[i]\n",
    "                self.heapList[i] = tmp\n",
    "            i = self.parent(i)\n",
    "\n",
    "\n",
    "    def downHeapify(self, i):\n",
    "        '''switching parents with their minchild if minchild was smaller than its parent,\n",
    "        starting from i'''\n",
    "        while self.leftChild(i) < self.currentSize:\n",
    "            mc = self.minChild(i)\n",
    "            if self.heapList[i] > self.heapList[mc]:\n",
    "                tmp = self.heapList[i]\n",
    "                self.heapList[i] = self.heapList[mc]\n",
    "                self.heapList[mc] = tmp\n",
    "            i = mc\n",
    "\n",
    "\n",
    "    def push(self, k):\n",
    "        \"inserting element to heaplist and up heapifying it for making it ordered again\"\n",
    "        self.heapList.append(k)\n",
    "        self.currentSize = self.currentSize + 1\n",
    "        self.upHeapify(self.currentSize)\n",
    "\n",
    "\n",
    "    def increaseKeyValue(self,i,value) :\n",
    "        self.heapList[i] = value\n",
    "        self.downHeapify(i)\n",
    "\n",
    "    def minChild(self, i):\n",
    "        \"as we know : childs of node in index i indexed at i*2 and i*2 + 1 index of heaplist\"\n",
    "        if (self.rightChild(i) >= self.currentSize) or \\\n",
    "                (self.heapList[self.leftChild(i)] < self.heapList[self.rightChild(i)]):\n",
    "            return self.leftChild(i)\n",
    "        else:\n",
    "            return self.rightChild(i)\n",
    "\n",
    "\n",
    "    def delMin(self):\n",
    "        if self.currentSize != 0 :\n",
    "            retval = self.heapList[1]\n",
    "            self.heapList[1] = self.heapList[self.currentSize]\n",
    "            self.currentSize = self.currentSize - 1\n",
    "            self.heapList.pop()\n",
    "            self.downHeapify(1)\n",
    "            return retval\n",
    "\n",
    "\n",
    "    def buildHeap(self, alist):\n",
    "        i = len(alist) // 2\n",
    "        self.currentSize = len(alist)\n",
    "        self.heapList = [0] + alist[:]\n",
    "        while (i > 0):\n",
    "            self.downHeapify(i)\n",
    "            i = i - 1"
   ]
  },
  {
   "cell_type": "markdown",
   "metadata": {
    "deletable": true,
    "editable": true
   },
   "source": [
    "# Interval Partitioning Without Priority Queue"
   ]
  },
  {
   "cell_type": "markdown",
   "metadata": {},
   "source": [
    "Dependencies which we needed during implementing algorithm"
   ]
  },
  {
   "cell_type": "code",
   "execution_count": 22,
   "metadata": {
    "collapsed": false,
    "deletable": true,
    "editable": true
   },
   "outputs": [],
   "source": [
    "from random import randint\n",
    "import time\n",
    "import matplotlib.pyplot as plt"
   ]
  },
  {
   "cell_type": "markdown",
   "metadata": {},
   "source": [
    "This function will check if there is a free class ,and if such class exist ,it will return the number of the class."
   ]
  },
  {
   "cell_type": "code",
   "execution_count": 23,
   "metadata": {
    "collapsed": true
   },
   "outputs": [],
   "source": [
    "def isFree(classFinishTimes,start_time) :\n",
    "    for clasNum in range(len(classFinishTimes)) :\n",
    "        if start_time >= classFinishTimes[clasNum] :\n",
    "            return clasNum\n",
    "    return None"
   ]
  },
  {
   "cell_type": "markdown",
   "metadata": {},
   "source": [
    "Implementation of Algorithm :"
   ]
  },
  {
   "cell_type": "code",
   "execution_count": 15,
   "metadata": {
    "collapsed": true
   },
   "outputs": [],
   "source": [
    "def naiveIntervalPartiotioningAlgorithm(start_times,finish_times) :\n",
    "    begin = time.time()\n",
    "    classFinishTimes = []\n",
    "    for i in range(len(start_times)) :\n",
    "        freeClass = isFree(classFinishTimes,start_times[i])\n",
    "        if  freeClass != None :\n",
    "            classFinishTimes[freeClass] = finish_times[i]\n",
    "        else :\n",
    "            classFinishTimes.append(finish_times[i])\n",
    "\n",
    "    return time.time() - begin"
   ]
  },
  {
   "cell_type": "markdown",
   "metadata": {},
   "source": [
    "# Interval Partitioning With Priority Queue"
   ]
  },
  {
   "cell_type": "markdown",
   "metadata": {},
   "source": [
    "Implementation of Algorithm :"
   ]
  },
  {
   "cell_type": "code",
   "execution_count": 26,
   "metadata": {
    "collapsed": true
   },
   "outputs": [],
   "source": [
    "def proIntervalPartiotioningAlgorithm(start_times,finish_times) :\n",
    "    begin = time.time()\n",
    "    classFinishTimes = MinHeap()\n",
    "    for i in range(len(start_times)):\n",
    "        # print(\"min \" ,classFinishTimes.getMin())\n",
    "        # print(\"start \" , start_times[i])\n",
    "        # print(\"finish \" ,finish_times[i])\n",
    "        if classFinishTimes.size() != 0 :\n",
    "            if classFinishTimes.getMin() <= start_times[i] :\n",
    "                classFinishTimes.increaseKeyValue(1,finish_times[i])\n",
    "            else :\n",
    "                classFinishTimes.push(finish_times[i])\n",
    "        else :\n",
    "            classFinishTimes.push(finish_times[i])\n",
    "        # print(\"size \" , classFinishTimes.size())\n",
    "    return time.time() - begin"
   ]
  },
  {
   "cell_type": "markdown",
   "metadata": {},
   "source": [
    "# Initializing The startTime and finishTime randomly"
   ]
  },
  {
   "cell_type": "markdown",
   "metadata": {},
   "source": [
    "Initializing start times and finish times randomly and sort them in base of finish times"
   ]
  },
  {
   "cell_type": "code",
   "execution_count": 27,
   "metadata": {
    "collapsed": true
   },
   "outputs": [],
   "source": [
    "def initializingLists(num):\n",
    "\n",
    "\n",
    "    start_times = []\n",
    "    finish_times = []\n",
    "    for i in range(num) :\n",
    "        start_times.append(randint(0,num * 100))\n",
    "        finish_times.append(start_times[i] + randint(0,num * 100))\n",
    "    #sorting two list toghether in base of start_times\n",
    "    start_times,finish_times = zip(*sorted(zip(start_times, finish_times)))\n",
    "\n",
    "    return start_times,finish_times"
   ]
  },
  {
   "cell_type": "markdown",
   "metadata": {},
   "source": [
    "Creating 5000 test cases and testing them on each above algorithms then painting their plots :"
   ]
  },
  {
   "cell_type": "code",
   "execution_count": 29,
   "metadata": {
    "collapsed": false
   },
   "outputs": [
    {
     "data": {
      "image/png": "[encoded data removed]",
      "text/plain": [
       "<matplotlib.figure.Figure at 0x7f1332caf588>"
      ]
     },
     "metadata": {},
     "output_type": "display_data"
    }
   ],
   "source": [
    "naiveTime = []\n",
    "proTime = []\n",
    "for i in range(1,3000) :\n",
    "    start_times,finish_times = initializingLists(i)\n",
    "    naiveTime.append(naiveIntervalPartiotioningAlgorithm(start_times,finish_times))\n",
    "    proTime.append(proIntervalPartiotioningAlgorithm(start_times,finish_times))\n",
    "\n",
    "plt.plot(list(range(1,3000)),naiveTime,label=\"Na\")\n",
    "plt.plot(list(range(1,3000)),proTime,color = \"r\",label=\"Pro\")\n",
    "plt.xlabel('Number of member')\n",
    "plt.ylabel('Time')\n",
    "plt.title('Comparison')\n",
    "plt.legend()\n",
    "plt.show()"
   ]
  }
 ],
 "metadata": {
  "kernelspec": {
   "display_name": "Python 3",
   "language": "python",
   "name": "python3"
  },
  "language_info": {
   "codemirror_mode": {
    "name": "ipython",
    "version": 3
   },
   "file_extension": ".py",
   "mimetype": "text/x-python",
   "name": "python",
   "nbconvert_exporter": "python",
   "pygments_lexer": "ipython3",
   "version": "3.5.3"
  }
 },
 "nbformat": 4,
 "nbformat_minor": 2
}
