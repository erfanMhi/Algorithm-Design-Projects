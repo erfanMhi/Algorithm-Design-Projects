{
 "cells": [
  {
   "cell_type": "markdown",
   "metadata": {
    "deletable": true,
    "editable": true
   },
   "source": [
    "# Stable matching problem"
   ]
  },
  {
   "cell_type": "code",
   "execution_count": 117,
   "metadata": {
    "collapsed": false,
    "deletable": true,
    "editable": true
   },
   "outputs": [],
   "source": [
    "from random import shuffle\n",
    "from random import randint\n",
    "from copy import deepcopy\n",
    "import matplotlib.pyplot as plt\n",
    "import time"
   ]
  },
  {
   "cell_type": "code",
   "execution_count": 118,
   "metadata": {
    "collapsed": true,
    "deletable": true,
    "editable": true
   },
   "outputs": [],
   "source": [
    "def randomPrefrencesListBuilder(elementNum):\n",
    "    pList = list(range(elementNum))\n",
    "    for i in range(elementNum):\n",
    "        pList[i] = list(range(elementNum))\n",
    "        shuffle(pList[i])\n",
    "    return pList"
   ]
  },
  {
   "cell_type": "code",
   "execution_count": 119,
   "metadata": {
    "collapsed": true,
    "deletable": true,
    "editable": true
   },
   "outputs": [],
   "source": [
    "def validateSM(menPrefrences,womenPrefrences,men,women) :\n",
    "    reversedWomenPrefrencesList = getReversedList(womenPrefrences,women)\n",
    "    reversedMenPrefrencesList = getReversedList(menPrefrences,men)\n",
    "    for i in range(len(women)) :\n",
    "        for j in range(i,len(women)) :\n",
    "            if(reversedWomenPrefrencesList[women[i]][men[i]] > reversedWomenPrefrencesList[women[i]][men[j]]\n",
    "                and reversedMenPrefrencesList[men[j]][women[i]] < reversedMenPrefrencesList[men[j]][women[j]]) :\n",
    "                return False\n",
    "            elif (reversedWomenPrefrencesList[men[i]][women[i]] > reversedWomenPrefrencesList[men[i]][women[j]]\n",
    "                and reversedMenPrefrencesList[women[j]][men[i]] < reversedMenPrefrencesList[women[j]][men[j]]) :\n",
    "                return False\n",
    "    return True"
   ]
  },
  {
   "cell_type": "code",
   "execution_count": 120,
   "metadata": {
    "collapsed": true,
    "deletable": true,
    "editable": true
   },
   "outputs": [],
   "source": [
    "def getReversedList(womenPrefrences,women) :\n",
    "    reversedList = list(range(len(women)))\n",
    "    for i in range(len(womenPrefrences)) :\n",
    "        reversedList[women[i]] = list(range(len(women)))\n",
    "        k = 0\n",
    "        for j in womenPrefrences[women[i]] :\n",
    "            reversedList[women[i]][j] = k\n",
    "            k += 1\n",
    "    return reversedList"
   ]
  },
  {
   "cell_type": "code",
   "execution_count": 121,
   "metadata": {
    "collapsed": true,
    "deletable": true,
    "editable": true
   },
   "outputs": [],
   "source": [
    "def bruteForceAlgorithm(menPrefrences,womenPrefrences,men,women,counter = 0):\n",
    "    startTime = time.time()\n",
    "    list = []\n",
    "    if counter == len(women) - 1 :\n",
    "        if(validateSM(menPrefrences,womenPrefrences,men,women)) :\n",
    "            return time.time() - startTime\n",
    "        else :\n",
    "            return None\n",
    "\n",
    "    while(len(list) != len(women) - counter) :\n",
    "        man = randint(counter, len(men) - 1)\n",
    "        while(man in list) :\n",
    "            man = randint(counter, len(men) - 1)\n",
    "        list.append(man)\n",
    "        women[counter], women[man] = women[man], women[counter]\n",
    "        if bruteForceAlgorithm(menPrefrences, womenPrefrences, men, women, counter + 1) == None:\n",
    "            women[counter], women[man] = women[man], women[counter]\n",
    "        else:\n",
    "            return time.time() - startTime\n",
    "        \n",
    "    if counter == 0 :\n",
    "        return time.time() - startTime\n",
    "    \n",
    "    return None"
   ]
  },
  {
   "cell_type": "code",
   "execution_count": 122,
   "metadata": {
    "collapsed": true,
    "deletable": true,
    "editable": true
   },
   "outputs": [],
   "source": [
    "def galeShapleyAlgorithm(menPrefrences,womenPrefrences,men,women):\n",
    "    startTime = time.time()\n",
    "    if(len(men) != 0) :\n",
    "        stableList = {}\n",
    "        reversedWomenPrefrencesList = getReversedList(womenPrefrences,women)\n",
    "        while(len(men) != 0) :\n",
    "            man = men.pop()\n",
    "            woman = menPrefrences[man].pop(0)\n",
    "            if woman not in stableList :\n",
    "                stableList[woman] = man\n",
    "            elif reversedWomenPrefrencesList[woman][man] < reversedWomenPrefrencesList[woman][stableList[woman]] :\n",
    "                men.append(stableList[woman])\n",
    "                stableList[woman] = man\n",
    "            else :\n",
    "                men.append(man)\n",
    "    return time.time() - startTime"
   ]
  },
  {
   "cell_type": "code",
   "execution_count": 79,
   "metadata": {
    "collapsed": false,
    "deletable": true,
    "editable": true
   },
   "outputs": [
    {
     "data": {
      "image/png": "[encoded data removed]",
      "text/plain": [
       "<matplotlib.figure.Figure at 0x7fab131d12e8>"
      ]
     },
     "metadata": {},
     "output_type": "display_data"
    }
   ],
   "source": [
    "gSSpeed = []\n",
    "bFSpeed = []\n",
    "\n",
    "for counter in range(0,10) :\n",
    "    tmp = []\n",
    "    menPrefrences = randomPrefrencesListBuilder(counter)\n",
    "    womenPrefrences = randomPrefrencesListBuilder(counter)\n",
    "    gSSpeed.append(galeShapleyAlgorithm(deepcopy(menPrefrences),deepcopy(womenPrefrences),list(range(counter)),list(range(counter))))\n",
    "    for i in range(0,10) :\n",
    "        tmp.append(bruteForceAlgorithm(deepcopy(menPrefrences),deepcopy(womenPrefrences),list(range(counter)),list(range(counter))))\n",
    "    bFSpeed.append(sum(tmp)/10)\n",
    "    \n",
    "plt.plot(list(range(1,11)),gSSpeed,label=\"GS\")\n",
    "plt.plot(list(range(1,11)),bFSpeed,color = \"r\",label=\"BF\")\n",
    "plt.xlabel('Number of member')\n",
    "plt.ylabel('Time')\n",
    "plt.title('Comparison')\n",
    "plt.legend()\n",
    "plt.show()"
   ]
  },
  {
   "cell_type": "markdown",
   "metadata": {
    "deletable": true,
    "editable": true
   },
   "source": [
    "# Subsets of size k from given array"
   ]
  },
  {
   "cell_type": "code",
   "execution_count": 123,
   "metadata": {
    "collapsed": true,
    "deletable": true,
    "editable": true
   },
   "outputs": [],
   "source": [
    "def getKSubsets(set,k=0,counter=0,binary=[],list = []) :\n",
    "    if len(binary) == 0:\n",
    "        binary = [False for i in range(len(set))]\n",
    "    print(\"here\")\n",
    "    if (k == 0):\n",
    "        list.append([set[j] for j in range(len(binary)) if binary[j]])\n",
    "        return list\n",
    "    for i in range(counter,len(set)-k + 1) :\n",
    "        binary[i] = True\n",
    "        getKSubsets(set,k-1,i + 1,binary,list)\n",
    "        binary[i] = False\n",
    "    return list"
   ]
  },
  {
   "cell_type": "markdown",
   "metadata": {
    "deletable": true,
    "editable": true
   },
   "source": [
    "# Multiple answer for stable matching problem"
   ]
  },
  {
   "cell_type": "markdown",
   "metadata": {
    "deletable": true,
    "editable": true
   },
   "source": [
    "With Gale–Shapley algorithm We can have 2 diffrent stable matching :\n",
    "1. If we choose men matching for while condition\n",
    "2. If we choose women matching for while condition\n"
   ]
  },
  {
   "cell_type": "code",
   "execution_count": 128,
   "metadata": {
    "collapsed": false,
    "deletable": true,
    "editable": true
   },
   "outputs": [
    {
     "name": "stdout",
     "output_type": "stream",
     "text": [
      "{0: 0, 1: 4, 2: 2, 3: 3, 4: 1}\n",
      "{0: 0, 1: 4, 2: 2, 3: 3, 4: 1}\n"
     ]
    }
   ],
   "source": [
    "def galeShapleyAlgorithmI(menPrefrences,womenPrefrences,men,women):\n",
    "    stableList = {}\n",
    "    reversedWomenPrefrencesList = getReversedList(womenPrefrences,women)\n",
    "    while(len(men) != 0) :\n",
    "        man = men.pop()\n",
    "        # print(menPrefrences[man])\n",
    "        woman = menPrefrences[man].pop(0)\n",
    "        if woman not in stableList :\n",
    "            stableList[woman] = man\n",
    "        elif reversedWomenPrefrencesList[woman][man] < reversedWomenPrefrencesList[woman][stableList[woman]] :\n",
    "            men.append(stableList[woman])\n",
    "            stableList[woman] = man\n",
    "        else :\n",
    "            men.append(man)\n",
    "    return stableList\n",
    "\n",
    "menPrefrences = randomPrefrencesListBuilder(5)\n",
    "womenPrefrences = randomPrefrencesListBuilder(5)\n",
    "women = list(range(5))\n",
    "men = list(range(5))\n",
    "print(galeShapleyAlgorithmI(deepcopy(menPrefrences),deepcopy(womenPrefrences),deepcopy(men),deepcopy(women)))\n",
    "print(galeShapleyAlgorithmI(deepcopy(womenPrefrences),deepcopy(menPrefrences),deepcopy(women),deepcopy(men)))"
   ]
  },
  {
   "cell_type": "markdown",
   "metadata": {
    "deletable": true,
    "editable": true
   },
   "source": [
    "And if we shuffle list of men and women , the answer will not change."
   ]
  },
  {
   "cell_type": "code",
   "execution_count": 129,
   "metadata": {
    "collapsed": false,
    "deletable": true,
    "editable": true
   },
   "outputs": [
    {
     "name": "stdout",
     "output_type": "stream",
     "text": [
      "{0: 0, 1: 4, 2: 2, 3: 3, 4: 1}\n",
      "{0: 0, 1: 4, 2: 2, 3: 3, 4: 1}\n"
     ]
    }
   ],
   "source": [
    "shuffle(men)\n",
    "shuffle(women)\n",
    "print(galeShapleyAlgorithmI(deepcopy(menPrefrences),deepcopy(womenPrefrences),deepcopy(men),deepcopy(women)))\n",
    "print(galeShapleyAlgorithmI(deepcopy(womenPrefrences),deepcopy(menPrefrences),deepcopy(women),deepcopy(men)))"
   ]
  },
  {
   "cell_type": "markdown",
   "metadata": {
    "deletable": true,
    "editable": true
   },
   "source": [
    "So i decided to use the BruteForce Algorithm for producing diffrent answers."
   ]
  },
  {
   "cell_type": "code",
   "execution_count": 134,
   "metadata": {
    "collapsed": true,
    "deletable": true,
    "editable": true
   },
   "outputs": [],
   "source": [
    "def multiStableMatching(menPrefrences, womenPrefrences, men, women, counter=0):\n",
    "    list = []\n",
    "    if counter == len(women) - 1:\n",
    "        if (validateSM(menPrefrences, womenPrefrences, men, women)):\n",
    "            relation = {}\n",
    "            for i in range(len(men)) :\n",
    "                relation[women[i]] = men[i]\n",
    "            return relation\n",
    "        else:\n",
    "            return None\n",
    "\n",
    "    while (len(list) != len(women) - counter):\n",
    "        man = randint(counter, len(men) - 1)\n",
    "        while (man in list):\n",
    "            man = randint(counter, len(men) - 1)\n",
    "        list.append(man)\n",
    "        women[counter], women[man] = women[man], women[counter]\n",
    "        relation = multiStableMatching(menPrefrences, womenPrefrences, men, women, counter + 1)\n",
    "        if relation == None:\n",
    "            women[counter], women[man] = women[man], women[counter]\n",
    "        else:\n",
    "            return relation\n",
    "\n",
    "    return None"
   ]
  },
  {
   "cell_type": "code",
   "execution_count": 135,
   "metadata": {
    "collapsed": false,
    "deletable": true,
    "editable": true
   },
   "outputs": [
    {
     "name": "stdout",
     "output_type": "stream",
     "text": [
      "{0: 0, 1: 3, 2: 2, 3: 1, 4: 4}\n",
      "{0: 0, 1: 1, 2: 2, 3: 3, 4: 4}\n",
      "{0: 0, 1: 3, 2: 2, 3: 1, 4: 4}\n",
      "{0: 0, 1: 4, 2: 2, 3: 3, 4: 1}\n",
      "{0: 0, 1: 3, 2: 2, 3: 1, 4: 4}\n",
      "{0: 0, 1: 4, 2: 2, 3: 3, 4: 1}\n",
      "{0: 0, 1: 3, 2: 2, 3: 1, 4: 4}\n",
      "{0: 0, 1: 4, 2: 2, 3: 3, 4: 1}\n",
      "{0: 0, 1: 4, 2: 2, 3: 3, 4: 1}\n",
      "{0: 0, 1: 1, 2: 2, 3: 3, 4: 4}\n"
     ]
    }
   ],
   "source": [
    "for i in range(10):\n",
    "    print(multiStableMatching(deepcopy(menPrefrences),deepcopy(womenPrefrences),deepcopy(men),deepcopy(women)))"
   ]
  },
  {
   "cell_type": "markdown",
   "metadata": {
    "deletable": true,
    "editable": true
   },
   "source": [
    "# All Stable Matching"
   ]
  },
  {
   "cell_type": "code",
   "execution_count": 153,
   "metadata": {
    "collapsed": true,
    "deletable": true,
    "editable": true
   },
   "outputs": [],
   "source": [
    "def allStableMatching(menPrefrences, womenPrefrences, men, women, counter=0,sMatching = []):\n",
    "    list = []\n",
    "    if counter == len(women) - 1:\n",
    "        if (validateSM(menPrefrences, womenPrefrences, men, women)):\n",
    "            relation = {}\n",
    "            for i in range(len(men)) :\n",
    "                relation[women[i]] = men[i]\n",
    "            sMatching.append(relation)\n",
    "            return\n",
    "\n",
    "    while (len(list) != len(women) - counter):\n",
    "        man = randint(counter, len(men) - 1)\n",
    "        while (man in list):\n",
    "            man = randint(counter, len(men) - 1)\n",
    "        list.append(man)\n",
    "        women[counter], women[man] = women[man], women[counter]\n",
    "        allStableMatching(menPrefrences, womenPrefrences, men, women, counter + 1,sMatching)\n",
    "        women[counter], women[man] = women[man], women[counter]\n",
    "\n",
    "    return sMatching"
   ]
  },
  {
   "cell_type": "code",
   "execution_count": 154,
   "metadata": {
    "collapsed": false,
    "deletable": true,
    "editable": true
   },
   "outputs": [
    {
     "name": "stdout",
     "output_type": "stream",
     "text": [
      "[{0: 0, 1: 3, 2: 2, 3: 1, 4: 4}, {0: 0, 1: 1, 2: 2, 3: 3, 4: 4}, {0: 0, 1: 4, 2: 2, 3: 3, 4: 1}]\n"
     ]
    }
   ],
   "source": [
    "print(allStableMatching(deepcopy(menPrefrences),deepcopy(womenPrefrences),deepcopy(men),deepcopy(women)))"
   ]
  }
 ],
 "metadata": {
  "kernelspec": {
   "display_name": "Python 3",
   "language": "python",
   "name": "python3"
  },
  "language_info": {
   "codemirror_mode": {
    "name": "ipython",
    "version": 3
   },
   "file_extension": ".py",
   "mimetype": "text/x-python",
   "name": "python",
   "nbconvert_exporter": "python",
   "pygments_lexer": "ipython3",
   "version": "3.5.3"
  }
 },
 "nbformat": 4,
 "nbformat_minor": 2
}
